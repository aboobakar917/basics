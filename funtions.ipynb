{
  "nbformat": 4,
  "nbformat_minor": 0,
  "metadata": {
    "colab": {
      "name": "funtions.ipynb",
      "provenance": [],
      "authorship_tag": "ABX9TyNa8/0hDSX+9A5azxhxWrih",
      "include_colab_link": true
    },
    "kernelspec": {
      "name": "python3",
      "display_name": "Python 3"
    }
  },
  "cells": [
    {
      "cell_type": "markdown",
      "metadata": {
        "id": "view-in-github",
        "colab_type": "text"
      },
      "source": [
        "<a href=\"https://colab.research.google.com/github/aboobakar917/basics/blob/master/funtions.ipynb\" target=\"_parent\"><img src=\"https://colab.research.google.com/assets/colab-badge.svg\" alt=\"Open In Colab\"/></a>"
      ]
    },
    {
      "cell_type": "code",
      "metadata": {
        "id": "b3fHT0fhzCLy",
        "colab_type": "code",
        "colab": {}
      },
      "source": [
        "def sum(a,b)\n",
        "result=a+b\n",
        "print(result)\n"
      ],
      "execution_count": 0,
      "outputs": []
    }
  ]
}